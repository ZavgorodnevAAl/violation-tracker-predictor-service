{
 "cells": [
  {
   "cell_type": "markdown",
   "id": "ef1a02e1-fc58-4330-82d4-d0add89d4390",
   "metadata": {},
   "source": [
    "Импорт библиотек"
   ]
  },
  {
   "cell_type": "code",
   "execution_count": 1,
   "id": "f876f2ff-ef87-4197-9eae-40cbfeee2677",
   "metadata": {
    "execution": {
     "iopub.execute_input": "2024-06-02T00:32:12.278950Z",
     "iopub.status.busy": "2024-06-02T00:32:12.277294Z",
     "iopub.status.idle": "2024-06-02T00:32:27.170894Z",
     "shell.execute_reply": "2024-06-02T00:32:27.169672Z",
     "shell.execute_reply.started": "2024-06-02T00:32:12.278893Z"
    },
    "tags": []
   },
   "outputs": [
    {
     "name": "stderr",
     "output_type": "stream",
     "text": [
      "/home/jupyter/.local/lib/python3.10/site-packages/transformers/utils/hub.py:124: FutureWarning: Using `TRANSFORMERS_CACHE` is deprecated and will be removed in v5 of Transformers. Use `HF_HOME` instead.\n",
      "  warnings.warn(\n"
     ]
    }
   ],
   "source": [
    "import cv2\n",
    "import numpy as np\n",
    "import matplotlib.pyplot as plt\n",
    "from tqdm import tqdm\n",
    "from torch.utils.data import Dataset, DataLoader\n",
    "import os\n",
    "import pytorch_lightning\n",
    "import pytorchvideo.data\n",
    "import torch.utils.data\n",
    "import pandas as pd\n",
    "import csv\n",
    "import json\n",
    "from typing import List\n",
    "import torch\n",
    "import torch.nn.functional as F\n",
    "import torchvision.transforms as T\n",
    "from PIL import Image\n",
    "from pytorchvideo.data.encoded_video import EncodedVideo\n",
    "%matplotlib inline\n",
    "import matplotlib.pyplot as plt\n",
    "import matplotlib.image as mpimg\n",
    "from ipywidgets import Video\n",
    "import torch\n",
    "import torch.nn as nn\n",
    "import torch.nn.functional as F"
   ]
  },
  {
   "cell_type": "markdown",
   "id": "241ce4b6-f9f8-4e19-aa87-efdc17e8dd7e",
   "metadata": {},
   "source": [
    "Вспомогательные функции"
   ]
  },
  {
   "cell_type": "code",
   "execution_count": 62,
   "id": "426bc513-0359-4f2a-ba8e-6e34d3605c43",
   "metadata": {
    "execution": {
     "iopub.execute_input": "2024-06-02T01:19:09.503729Z",
     "iopub.status.busy": "2024-06-02T01:19:09.502713Z",
     "iopub.status.idle": "2024-06-02T01:19:09.524728Z",
     "shell.execute_reply": "2024-06-02T01:19:09.523629Z",
     "shell.execute_reply.started": "2024-06-02T01:19:09.503677Z"
    },
    "tags": []
   },
   "outputs": [],
   "source": [
    "import datetime\n",
    "\n",
    "def get_duration(filename):\n",
    "    video = cv2.VideoCapture(filename)\n",
    "\n",
    "    duration = video.get(cv2.CAP_PROP_POS_MSEC)\n",
    "    frame_count = video.get(cv2.CAP_PROP_FRAME_COUNT)\n",
    "    \n",
    "    video = EncodedVideo.from_path(filename)\n",
    "\n",
    "    return int(video.duration), int(frame_count)\n",
    "\n",
    "def cast_pred_to_timestamps(pred, file):\n",
    "    timestamps = []\n",
    "    is_open = False\n",
    "    for i in range(0, pred.size):\n",
    "        if (pred[i] == 0):\n",
    "            if (i != 0 and pred[i-1] == 0 and i != 1 and pred[i - 2] == 0):\n",
    "                is_open = False\n",
    "        elif (is_open):\n",
    "            continue\n",
    "        else:\n",
    "            is_open = True\n",
    "            timestamps.append(str(datetime.timedelta(seconds=i))[2:])\n",
    "            \n",
    "    s = file\n",
    "    s += ';['\n",
    "    for i in range(len(timestamps)):\n",
    "        s += timestamps[i]\n",
    "        if (i != len(timestamps) - 1):\n",
    "            s += ','\n",
    "    s += ']'\n",
    "    return s"
   ]
  },
  {
   "cell_type": "markdown",
   "id": "c530eb07-d7ce-42b6-a9ba-c94e24bd7101",
   "metadata": {},
   "source": [
    "Директории. В DATA_DIR вставить вашу директорию."
   ]
  },
  {
   "cell_type": "code",
   "execution_count": 63,
   "id": "301e2a94-0aee-4fc5-b60a-639e5a9dd37f",
   "metadata": {
    "execution": {
     "iopub.execute_input": "2024-06-02T01:19:09.668820Z",
     "iopub.status.busy": "2024-06-02T01:19:09.667938Z",
     "iopub.status.idle": "2024-06-02T01:19:09.684925Z",
     "shell.execute_reply": "2024-06-02T01:19:09.683971Z",
     "shell.execute_reply.started": "2024-06-02T01:19:09.668778Z"
    },
    "tags": []
   },
   "outputs": [],
   "source": [
    "train_dir = 'data/train'\n",
    "val_dir = 'data/val'\n",
    "\n",
    "DATA_DIR = val_dir\n",
    "OUTPUT_DIR = 'result'\n",
    "\n",
    "files = os.listdir(DATA_DIR)[:-1]"
   ]
  },
  {
   "cell_type": "markdown",
   "id": "0704d21a-5285-4f8e-96ae-717f45135f2c",
   "metadata": {
    "execution": {
     "iopub.execute_input": "2024-06-02T00:32:39.738328Z",
     "iopub.status.busy": "2024-06-02T00:32:39.736765Z",
     "iopub.status.idle": "2024-06-02T00:32:39.758909Z",
     "shell.execute_reply": "2024-06-02T00:32:39.757326Z",
     "shell.execute_reply.started": "2024-06-02T00:32:39.738278Z"
    }
   },
   "source": [
    "Решение с нулями"
   ]
  },
  {
   "cell_type": "code",
   "execution_count": 64,
   "id": "07922fcc-cf5b-4bcd-a069-b86869c0d419",
   "metadata": {
    "execution": {
     "iopub.execute_input": "2024-06-02T01:19:12.124581Z",
     "iopub.status.busy": "2024-06-02T01:19:12.123597Z",
     "iopub.status.idle": "2024-06-02T01:19:12.423949Z",
     "shell.execute_reply": "2024-06-02T01:19:12.422571Z",
     "shell.execute_reply.started": "2024-06-02T01:19:12.124539Z"
    },
    "tags": []
   },
   "outputs": [],
   "source": [
    "#sol zeros\n",
    "accur = 0\n",
    "\n",
    "res = 'video_name;violation_timestamp\\n'\n",
    "for file in files:\n",
    "    dur, frame_count = get_duration(os.path.join(DATA_DIR, file))\n",
    "    \n",
    "    pred = np.zeros(dur)\n",
    "    \n",
    "    res += cast_pred_to_timestamps(pred, file) + '\\n'\n",
    "\n",
    "res = res[:-1]\n",
    "\n",
    "with open(os.path.join(OUTPUT_DIR, 'zeros.txt'), 'w') as f:\n",
    "    f.write(res)"
   ]
  },
  {
   "cell_type": "markdown",
   "id": "0c938dcf-874f-4a3f-8e7a-169834245776",
   "metadata": {},
   "source": [
    "Решение 1. YOLO."
   ]
  },
  {
   "cell_type": "code",
   "execution_count": 65,
   "id": "8b7d02e5-be2b-4693-b121-ce257af0c6b3",
   "metadata": {
    "execution": {
     "iopub.execute_input": "2024-06-02T01:19:13.877290Z",
     "iopub.status.busy": "2024-06-02T01:19:13.875864Z",
     "iopub.status.idle": "2024-06-02T01:21:48.926466Z",
     "shell.execute_reply": "2024-06-02T01:21:48.925393Z",
     "shell.execute_reply.started": "2024-06-02T01:19:13.877224Z"
    },
    "tags": []
   },
   "outputs": [
    {
     "name": "stdout",
     "output_type": "stream",
     "text": [
      "Transferred 355/355 items from pretrained weights\n",
      "8992\n"
     ]
    },
    {
     "name": "stderr",
     "output_type": "stream",
     "text": [
      "8992it [01:35, 94.64it/s]\n"
     ]
    },
    {
     "name": "stdout",
     "output_type": "stream",
     "text": [
      "4305\n"
     ]
    },
    {
     "name": "stderr",
     "output_type": "stream",
     "text": [
      "4305it [00:45, 93.96it/s]\n"
     ]
    },
    {
     "name": "stdout",
     "output_type": "stream",
     "text": [
      "424\n"
     ]
    },
    {
     "name": "stderr",
     "output_type": "stream",
     "text": [
      "424it [00:04, 90.32it/s]\n"
     ]
    },
    {
     "name": "stdout",
     "output_type": "stream",
     "text": [
      "274\n"
     ]
    },
    {
     "name": "stderr",
     "output_type": "stream",
     "text": [
      "274it [00:02, 95.62it/s]\n"
     ]
    },
    {
     "name": "stdout",
     "output_type": "stream",
     "text": [
      "236\n"
     ]
    },
    {
     "name": "stderr",
     "output_type": "stream",
     "text": [
      "236it [00:02, 96.82it/s]\n"
     ]
    },
    {
     "name": "stdout",
     "output_type": "stream",
     "text": [
      "139\n"
     ]
    },
    {
     "name": "stderr",
     "output_type": "stream",
     "text": [
      "139it [00:01, 94.69it/s]\n"
     ]
    },
    {
     "name": "stdout",
     "output_type": "stream",
     "text": [
      "204\n"
     ]
    },
    {
     "name": "stderr",
     "output_type": "stream",
     "text": [
      "204it [00:02, 97.11it/s]\n"
     ]
    }
   ],
   "source": [
    "from ultralytics import YOLO\n",
    "from ultralytics.utils.plotting import Annotator\n",
    "\n",
    "model = YOLO(\"yolov8n.yaml\").load(\"yolov8n.pt\")\n",
    "\n",
    "def predict(filename):\n",
    "    dur, frame_count = get_duration(filename)\n",
    "    results = model(filename, verbose=False, stream=True, conf=0.6)\n",
    "    fps = frame_count/dur\n",
    "    predict = np.zeros(dur)\n",
    "    i = 0\n",
    "    print(frame_count)\n",
    "    for result in tqdm(results):\n",
    "        boxes = result.boxes\n",
    "        if 0. in boxes.cls:\n",
    "            predict[int(i // fps)] = 1.\n",
    "        i += 1\n",
    "    return predict\n",
    "\n",
    "res = 'video_name;violation_timestamp\\n'\n",
    "\n",
    "for file in files:\n",
    "    pred = predict(os.path.join(DATA_DIR, file))\n",
    "    \n",
    "    res += cast_pred_to_timestamps(pred, file) + '\\n'\n",
    "\n",
    "res = res[:-1]\n",
    "\n",
    "with open(os.path.join(OUTPUT_DIR, 'first_sol.txt'), 'w') as f:\n",
    "    f.write(res)"
   ]
  },
  {
   "cell_type": "markdown",
   "id": "61968ef0-d4a5-4abc-b170-91eed87b0e06",
   "metadata": {
    "execution": {
     "iopub.execute_input": "2024-06-02T01:21:48.929186Z",
     "iopub.status.busy": "2024-06-02T01:21:48.928377Z",
     "iopub.status.idle": "2024-06-02T01:21:48.942623Z",
     "shell.execute_reply": "2024-06-02T01:21:48.940888Z",
     "shell.execute_reply.started": "2024-06-02T01:21:48.929145Z"
    }
   },
   "source": [
    "Решение 3. YOLO + случайный лес."
   ]
  },
  {
   "cell_type": "code",
   "execution_count": null,
   "id": "fa89061e-9ac6-458a-9151-ba10e672199d",
   "metadata": {
    "execution": {
     "iopub.execute_input": "2024-06-02T01:32:27.234244Z",
     "iopub.status.busy": "2024-06-02T01:32:27.232508Z"
    },
    "tags": []
   },
   "outputs": [
    {
     "name": "stdout",
     "output_type": "stream",
     "text": [
      "Transferred 355/355 items from pretrained weights\n",
      "8992\n"
     ]
    },
    {
     "name": "stderr",
     "output_type": "stream",
     "text": [
      "1075it [00:13, 72.04it/s]"
     ]
    }
   ],
   "source": [
    "from ultralytics import YOLO\n",
    "from ultralytics.utils.plotting import Annotator\n",
    "from sklearn.ensemble import RandomForestClassifier\n",
    "\n",
    "model = YOLO(\"yolov8n.yaml\").load(\"yolov8n.pt\")\n",
    "\n",
    "df_train = pd.read_csv(\"objects.csv\")\n",
    "\n",
    "X_train = df_train.values[:, 2:].astype(int)\n",
    "y_train = df_train.values[:, 1].astype(int)\n",
    "\n",
    "classifier = RandomForestClassifier(class_weight={1: 9.2, 0: 1})\n",
    "\n",
    "classifier.fit(X_train, y_train)\n",
    "\n",
    "def predict(filename):\n",
    "    dur, frame_count = get_duration(filename)\n",
    "    results = model(filename, verbose=False, stream=True, conf=0.6)\n",
    "    fps = frame_count/dur\n",
    "    predict = np.zeros(dur)\n",
    "    i = 0\n",
    "    print(frame_count)\n",
    "    for result in tqdm(results):\n",
    "        boxes = result.boxes  # Boxes object for bounding box outputs    \n",
    "        if (len(boxes) > 0):\n",
    "            arr = np.zeros(80).astype(int)\n",
    "            for cl in boxes.cls:\n",
    "                arr[int(cl.item())] = 1\n",
    "            predict[int(i // fps)] = classifier.predict([arr]).item()\n",
    "        i += 1\n",
    "    return predict\n",
    "\n",
    "res = 'video_name;violation_timestamp\\n'\n",
    "for file in files:\n",
    "    pred = predict(os.path.join(DATA_DIR, file))\n",
    "    \n",
    "    res += cast_pred_to_timestamps(pred, file) + '\\n'\n",
    "\n",
    "res = res[:-1]\n",
    "\n",
    "with open(os.path.join(OUTPUT_DIR, 'second_sol.txt'), 'w') as f:\n",
    "    f.write(res)"
   ]
  },
  {
   "cell_type": "code",
   "execution_count": null,
   "id": "9904a316-2659-4e3b-8676-edda63770c0b",
   "metadata": {},
   "outputs": [],
   "source": []
  }
 ],
 "metadata": {
  "kernelspec": {
   "display_name": "DataSphere Kernel",
   "language": "python",
   "name": "python3"
  },
  "language_info": {
   "name": ""
  }
 },
 "nbformat": 4,
 "nbformat_minor": 5
}
